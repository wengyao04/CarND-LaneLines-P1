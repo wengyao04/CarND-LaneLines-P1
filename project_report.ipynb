{
 "cells": [
  {
   "cell_type": "markdown",
   "metadata": {},
   "source": [
    "# **Finding Lane Lines on the Road** \n",
    "\n",
    "[//]: # (Image References)\n",
    "\n",
    "[image1]: ./examples/grayscale.jpg \"Grayscale\"\n",
    "\n",
    "---\n",
    "\n",
    "### Reflection\n",
    "\n",
    "### 1. Lane lines detection pipeline\n",
    "My pipeline is consisted of 5 steps. \n",
    "- Convert the images to grayscale\n",
    "- Blur the images by a Gaussian function to reduce the noise and details, with kernel size equal to 5\n",
    "- Apply Opencv Canny function to detect the edges of lines\n",
    "- Mask the region where we suppose that lane lines will appear in the images\n",
    "- Implement Hough transformation on the canny edges, and draw the lines\n",
    " - Apply Hough transformation on the canny edges to get the lines\n",
    " - Calculate the slope of each line, skip lines with abosolute slopes less than 0.1\n",
    " - Define a LineCollection class, save lines with positive slopes and negative slopes to two objects of LineCollection respectively\n",
    " - Remove outliers with slopes below Q1 - IQR or above Q3 + IQR (IQR is \"interquartile range\")\n",
    " - Calculate weighted average of slopes (k) and intersections (b). Weight is the distance square of the line, which indicates that the slope is determined more by the longer lines than the shorter lines.\n",
    " - Draw the line using y = kx + b between y_max and y_min, where y_max and y_min are the bottom and top vertices of the masked region.\n",
    "\n",
    "<figure>\n",
    "  <img src=\"./report_images/whiteCareLaneSwitch_gray.jpg\" title=\"Gray Image\" />\n",
    "  <figcaption>Gray Image</figcaption>\n",
    "</figure>\n",
    "<figure>\n",
    "  <img src=\"./report_images/whiteCareLaneSwitch_blurgray.jpg\" title=\"Gaussian Blur\" />\n",
    "  <figcaption>Gaussian Blur</figcaption>\n",
    "</figure>\n",
    "\n",
    "### 2. Identify potential shortcomings with your current pipeline\n",
    "- Fixed vertices of masked region makes my algorithm lose generality. For example, lane lines are located in a different region of the challenging vedio, therefore, using the fixed masked region will introduce noises or miss the lanes.\n",
    "- The algorithm supposes that the lane lines are linear, but there is curvature in the far end of the lines.\n",
    "\n",
    "### 3. Suggest possible improvements to your pipeline\n"
   ]
  },
  {
   "cell_type": "code",
   "execution_count": null,
   "metadata": {
    "collapsed": true
   },
   "outputs": [],
   "source": []
  }
 ],
 "metadata": {
  "anaconda-cloud": {},
  "kernelspec": {
   "display_name": "Python [default]",
   "language": "python",
   "name": "python3"
  },
  "language_info": {
   "codemirror_mode": {
    "name": "ipython",
    "version": 3
   },
   "file_extension": ".py",
   "mimetype": "text/x-python",
   "name": "python",
   "nbconvert_exporter": "python",
   "pygments_lexer": "ipython3",
   "version": "3.5.3"
  }
 },
 "nbformat": 4,
 "nbformat_minor": 2
}
